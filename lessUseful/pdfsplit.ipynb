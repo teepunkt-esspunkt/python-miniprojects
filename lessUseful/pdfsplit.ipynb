{
 "cells": [
  {
   "cell_type": "code",
   "execution_count": 1,
   "id": "44cc17d8-b44c-4c36-a51f-ffb5e0fd975e",
   "metadata": {},
   "outputs": [],
   "source": [
    "# put file in same folder as this file.\n",
    "input = 'victor resi.pdf' # specify filename\n",
    "from PyPDF2 import PdfWriter, PdfReader\n",
    "pages_to_keep = [0, 1, 3, 4] # page numbering starts from 0\n",
    "infile = PdfReader(input, 'rb')\n",
    "output = PdfWriter()\n",
    "\n",
    "for i in pages_to_keep:\n",
    "    p = infile.pages[i] \n",
    "    output.add_page(p)\n",
    "\n",
    "with open('newfile.pdf', 'wb') as f:\n",
    "    output.write(f)"
   ]
  },
  {
   "cell_type": "code",
   "execution_count": null,
   "id": "7f34bfdb-9f91-4b36-9910-ffc451f6ca81",
   "metadata": {},
   "outputs": [],
   "source": []
  }
 ],
 "metadata": {
  "kernelspec": {
   "display_name": "Python 3 (ipykernel)",
   "language": "python",
   "name": "python3"
  },
  "language_info": {
   "codemirror_mode": {
    "name": "ipython",
    "version": 3
   },
   "file_extension": ".py",
   "mimetype": "text/x-python",
   "name": "python",
   "nbconvert_exporter": "python",
   "pygments_lexer": "ipython3",
   "version": "3.13.3"
  }
 },
 "nbformat": 4,
 "nbformat_minor": 5
}
